{
 "cells": [
  {
   "cell_type": "code",
   "execution_count": 1,
   "id": "a87e84d2",
   "metadata": {},
   "outputs": [],
   "source": [
    "import pandas as pd\n",
    "import numpy as np\n",
    "import matplotlib.pyplot as plt\n",
    "%matplotlib inline"
   ]
  },
  {
   "cell_type": "code",
   "execution_count": 2,
   "id": "b8e012d1",
   "metadata": {},
   "outputs": [
    {
     "ename": "FileNotFoundError",
     "evalue": "[Errno 2] No such file or directory: 'Housingdata.csv'",
     "output_type": "error",
     "traceback": [
      "\u001b[1;31m---------------------------------------------------------------------------\u001b[0m",
      "\u001b[1;31mFileNotFoundError\u001b[0m                         Traceback (most recent call last)",
      "\u001b[1;32m~\\AppData\\Local\\Temp\\ipykernel_5548\\917265470.py\u001b[0m in \u001b[0;36m<module>\u001b[1;34m\u001b[0m\n\u001b[0;32m      1\u001b[0m \u001b[1;31m#Loading the dataset\u001b[0m\u001b[1;33m\u001b[0m\u001b[1;33m\u001b[0m\u001b[0m\n\u001b[1;32m----> 2\u001b[1;33m \u001b[0mdf\u001b[0m\u001b[1;33m=\u001b[0m\u001b[0mpd\u001b[0m\u001b[1;33m.\u001b[0m\u001b[0mread_csv\u001b[0m\u001b[1;33m(\u001b[0m\u001b[1;34m\"Housingdata.csv\"\u001b[0m\u001b[1;33m)\u001b[0m\u001b[1;33m\u001b[0m\u001b[1;33m\u001b[0m\u001b[0m\n\u001b[0m\u001b[0;32m      3\u001b[0m \u001b[0mdf\u001b[0m\u001b[1;33m.\u001b[0m\u001b[0mhead\u001b[0m\u001b[1;33m(\u001b[0m\u001b[1;33m)\u001b[0m\u001b[1;33m\u001b[0m\u001b[1;33m\u001b[0m\u001b[0m\n",
      "\u001b[1;32m~\\anaconda3\\lib\\site-packages\\pandas\\util\\_decorators.py\u001b[0m in \u001b[0;36mwrapper\u001b[1;34m(*args, **kwargs)\u001b[0m\n\u001b[0;32m    309\u001b[0m                     \u001b[0mstacklevel\u001b[0m\u001b[1;33m=\u001b[0m\u001b[0mstacklevel\u001b[0m\u001b[1;33m,\u001b[0m\u001b[1;33m\u001b[0m\u001b[1;33m\u001b[0m\u001b[0m\n\u001b[0;32m    310\u001b[0m                 )\n\u001b[1;32m--> 311\u001b[1;33m             \u001b[1;32mreturn\u001b[0m \u001b[0mfunc\u001b[0m\u001b[1;33m(\u001b[0m\u001b[1;33m*\u001b[0m\u001b[0margs\u001b[0m\u001b[1;33m,\u001b[0m \u001b[1;33m**\u001b[0m\u001b[0mkwargs\u001b[0m\u001b[1;33m)\u001b[0m\u001b[1;33m\u001b[0m\u001b[1;33m\u001b[0m\u001b[0m\n\u001b[0m\u001b[0;32m    312\u001b[0m \u001b[1;33m\u001b[0m\u001b[0m\n\u001b[0;32m    313\u001b[0m         \u001b[1;32mreturn\u001b[0m \u001b[0mwrapper\u001b[0m\u001b[1;33m\u001b[0m\u001b[1;33m\u001b[0m\u001b[0m\n",
      "\u001b[1;32m~\\anaconda3\\lib\\site-packages\\pandas\\io\\parsers\\readers.py\u001b[0m in \u001b[0;36mread_csv\u001b[1;34m(filepath_or_buffer, sep, delimiter, header, names, index_col, usecols, squeeze, prefix, mangle_dupe_cols, dtype, engine, converters, true_values, false_values, skipinitialspace, skiprows, skipfooter, nrows, na_values, keep_default_na, na_filter, verbose, skip_blank_lines, parse_dates, infer_datetime_format, keep_date_col, date_parser, dayfirst, cache_dates, iterator, chunksize, compression, thousands, decimal, lineterminator, quotechar, quoting, doublequote, escapechar, comment, encoding, encoding_errors, dialect, error_bad_lines, warn_bad_lines, on_bad_lines, delim_whitespace, low_memory, memory_map, float_precision, storage_options)\u001b[0m\n\u001b[0;32m    676\u001b[0m     \u001b[0mkwds\u001b[0m\u001b[1;33m.\u001b[0m\u001b[0mupdate\u001b[0m\u001b[1;33m(\u001b[0m\u001b[0mkwds_defaults\u001b[0m\u001b[1;33m)\u001b[0m\u001b[1;33m\u001b[0m\u001b[1;33m\u001b[0m\u001b[0m\n\u001b[0;32m    677\u001b[0m \u001b[1;33m\u001b[0m\u001b[0m\n\u001b[1;32m--> 678\u001b[1;33m     \u001b[1;32mreturn\u001b[0m \u001b[0m_read\u001b[0m\u001b[1;33m(\u001b[0m\u001b[0mfilepath_or_buffer\u001b[0m\u001b[1;33m,\u001b[0m \u001b[0mkwds\u001b[0m\u001b[1;33m)\u001b[0m\u001b[1;33m\u001b[0m\u001b[1;33m\u001b[0m\u001b[0m\n\u001b[0m\u001b[0;32m    679\u001b[0m \u001b[1;33m\u001b[0m\u001b[0m\n\u001b[0;32m    680\u001b[0m \u001b[1;33m\u001b[0m\u001b[0m\n",
      "\u001b[1;32m~\\anaconda3\\lib\\site-packages\\pandas\\io\\parsers\\readers.py\u001b[0m in \u001b[0;36m_read\u001b[1;34m(filepath_or_buffer, kwds)\u001b[0m\n\u001b[0;32m    573\u001b[0m \u001b[1;33m\u001b[0m\u001b[0m\n\u001b[0;32m    574\u001b[0m     \u001b[1;31m# Create the parser.\u001b[0m\u001b[1;33m\u001b[0m\u001b[1;33m\u001b[0m\u001b[0m\n\u001b[1;32m--> 575\u001b[1;33m     \u001b[0mparser\u001b[0m \u001b[1;33m=\u001b[0m \u001b[0mTextFileReader\u001b[0m\u001b[1;33m(\u001b[0m\u001b[0mfilepath_or_buffer\u001b[0m\u001b[1;33m,\u001b[0m \u001b[1;33m**\u001b[0m\u001b[0mkwds\u001b[0m\u001b[1;33m)\u001b[0m\u001b[1;33m\u001b[0m\u001b[1;33m\u001b[0m\u001b[0m\n\u001b[0m\u001b[0;32m    576\u001b[0m \u001b[1;33m\u001b[0m\u001b[0m\n\u001b[0;32m    577\u001b[0m     \u001b[1;32mif\u001b[0m \u001b[0mchunksize\u001b[0m \u001b[1;32mor\u001b[0m \u001b[0miterator\u001b[0m\u001b[1;33m:\u001b[0m\u001b[1;33m\u001b[0m\u001b[1;33m\u001b[0m\u001b[0m\n",
      "\u001b[1;32m~\\anaconda3\\lib\\site-packages\\pandas\\io\\parsers\\readers.py\u001b[0m in \u001b[0;36m__init__\u001b[1;34m(self, f, engine, **kwds)\u001b[0m\n\u001b[0;32m    930\u001b[0m \u001b[1;33m\u001b[0m\u001b[0m\n\u001b[0;32m    931\u001b[0m         \u001b[0mself\u001b[0m\u001b[1;33m.\u001b[0m\u001b[0mhandles\u001b[0m\u001b[1;33m:\u001b[0m \u001b[0mIOHandles\u001b[0m \u001b[1;33m|\u001b[0m \u001b[1;32mNone\u001b[0m \u001b[1;33m=\u001b[0m \u001b[1;32mNone\u001b[0m\u001b[1;33m\u001b[0m\u001b[1;33m\u001b[0m\u001b[0m\n\u001b[1;32m--> 932\u001b[1;33m         \u001b[0mself\u001b[0m\u001b[1;33m.\u001b[0m\u001b[0m_engine\u001b[0m \u001b[1;33m=\u001b[0m \u001b[0mself\u001b[0m\u001b[1;33m.\u001b[0m\u001b[0m_make_engine\u001b[0m\u001b[1;33m(\u001b[0m\u001b[0mf\u001b[0m\u001b[1;33m,\u001b[0m \u001b[0mself\u001b[0m\u001b[1;33m.\u001b[0m\u001b[0mengine\u001b[0m\u001b[1;33m)\u001b[0m\u001b[1;33m\u001b[0m\u001b[1;33m\u001b[0m\u001b[0m\n\u001b[0m\u001b[0;32m    933\u001b[0m \u001b[1;33m\u001b[0m\u001b[0m\n\u001b[0;32m    934\u001b[0m     \u001b[1;32mdef\u001b[0m \u001b[0mclose\u001b[0m\u001b[1;33m(\u001b[0m\u001b[0mself\u001b[0m\u001b[1;33m)\u001b[0m\u001b[1;33m:\u001b[0m\u001b[1;33m\u001b[0m\u001b[1;33m\u001b[0m\u001b[0m\n",
      "\u001b[1;32m~\\anaconda3\\lib\\site-packages\\pandas\\io\\parsers\\readers.py\u001b[0m in \u001b[0;36m_make_engine\u001b[1;34m(self, f, engine)\u001b[0m\n\u001b[0;32m   1214\u001b[0m             \u001b[1;31m# \"Union[str, PathLike[str], ReadCsvBuffer[bytes], ReadCsvBuffer[str]]\"\u001b[0m\u001b[1;33m\u001b[0m\u001b[1;33m\u001b[0m\u001b[0m\n\u001b[0;32m   1215\u001b[0m             \u001b[1;31m# , \"str\", \"bool\", \"Any\", \"Any\", \"Any\", \"Any\", \"Any\"\u001b[0m\u001b[1;33m\u001b[0m\u001b[1;33m\u001b[0m\u001b[0m\n\u001b[1;32m-> 1216\u001b[1;33m             self.handles = get_handle(  # type: ignore[call-overload]\n\u001b[0m\u001b[0;32m   1217\u001b[0m                 \u001b[0mf\u001b[0m\u001b[1;33m,\u001b[0m\u001b[1;33m\u001b[0m\u001b[1;33m\u001b[0m\u001b[0m\n\u001b[0;32m   1218\u001b[0m                 \u001b[0mmode\u001b[0m\u001b[1;33m,\u001b[0m\u001b[1;33m\u001b[0m\u001b[1;33m\u001b[0m\u001b[0m\n",
      "\u001b[1;32m~\\anaconda3\\lib\\site-packages\\pandas\\io\\common.py\u001b[0m in \u001b[0;36mget_handle\u001b[1;34m(path_or_buf, mode, encoding, compression, memory_map, is_text, errors, storage_options)\u001b[0m\n\u001b[0;32m    784\u001b[0m         \u001b[1;32mif\u001b[0m \u001b[0mioargs\u001b[0m\u001b[1;33m.\u001b[0m\u001b[0mencoding\u001b[0m \u001b[1;32mand\u001b[0m \u001b[1;34m\"b\"\u001b[0m \u001b[1;32mnot\u001b[0m \u001b[1;32min\u001b[0m \u001b[0mioargs\u001b[0m\u001b[1;33m.\u001b[0m\u001b[0mmode\u001b[0m\u001b[1;33m:\u001b[0m\u001b[1;33m\u001b[0m\u001b[1;33m\u001b[0m\u001b[0m\n\u001b[0;32m    785\u001b[0m             \u001b[1;31m# Encoding\u001b[0m\u001b[1;33m\u001b[0m\u001b[1;33m\u001b[0m\u001b[0m\n\u001b[1;32m--> 786\u001b[1;33m             handle = open(\n\u001b[0m\u001b[0;32m    787\u001b[0m                 \u001b[0mhandle\u001b[0m\u001b[1;33m,\u001b[0m\u001b[1;33m\u001b[0m\u001b[1;33m\u001b[0m\u001b[0m\n\u001b[0;32m    788\u001b[0m                 \u001b[0mioargs\u001b[0m\u001b[1;33m.\u001b[0m\u001b[0mmode\u001b[0m\u001b[1;33m,\u001b[0m\u001b[1;33m\u001b[0m\u001b[1;33m\u001b[0m\u001b[0m\n",
      "\u001b[1;31mFileNotFoundError\u001b[0m: [Errno 2] No such file or directory: 'Housingdata.csv'"
     ]
    }
   ],
   "source": [
    "#Loading the dataset\n",
    "df=pd.read_csv(\"Housingdata.csv\")\n",
    "df.head()"
   ]
  },
  {
   "cell_type": "code",
   "execution_count": null,
   "id": "af05ae0f",
   "metadata": {},
   "outputs": [],
   "source": [
    "df.info()"
   ]
  },
  {
   "cell_type": "code",
   "execution_count": null,
   "id": "61c93e92",
   "metadata": {},
   "outputs": [],
   "source": [
    "#statistics of data\n",
    "df.describe()"
   ]
  },
  {
   "cell_type": "code",
   "execution_count": null,
   "id": "b7078993",
   "metadata": {},
   "outputs": [],
   "source": [
    "#Checking missing values\n",
    "df.isnull().sum()"
   ]
  },
  {
   "cell_type": "code",
   "execution_count": null,
   "id": "959b9bc6",
   "metadata": {},
   "outputs": [],
   "source": [
    "df.keys()"
   ]
  },
  {
   "cell_type": "code",
   "execution_count": null,
   "id": "721a0841",
   "metadata": {},
   "outputs": [],
   "source": [
    "# replace null values with median value for each column\n",
    "df = df.fillna(df.median())"
   ]
  },
  {
   "cell_type": "code",
   "execution_count": null,
   "id": "30e4ab71",
   "metadata": {},
   "outputs": [],
   "source": [
    "df.isnull().sum()"
   ]
  },
  {
   "cell_type": "code",
   "execution_count": null,
   "id": "e87d1864",
   "metadata": {},
   "outputs": [],
   "source": [
    "df['CHAS'].value_counts()"
   ]
  },
  {
   "cell_type": "code",
   "execution_count": null,
   "id": "436d0442",
   "metadata": {},
   "outputs": [],
   "source": [
    "df.drop(df.loc[:, ['CHAS']],axis=1)"
   ]
  },
  {
   "cell_type": "code",
   "execution_count": null,
   "id": "9fc37647",
   "metadata": {},
   "outputs": [],
   "source": [
    "df['ZN'].value_counts()"
   ]
  },
  {
   "cell_type": "markdown",
   "id": "01208d7f",
   "metadata": {},
   "source": [
    "# EDA"
   ]
  },
  {
   "cell_type": "markdown",
   "id": "a7f42cf6",
   "metadata": {},
   "source": [
    "Outlier Removal"
   ]
  },
  {
   "cell_type": "code",
   "execution_count": null,
   "id": "80cb5aa1",
   "metadata": {},
   "outputs": [],
   "source": [
    "# BOXPLOTS for the individual features of the dataframe\n",
    "import seaborn as sns\n",
    "from scipy import stats\n",
    "\n",
    "fig, axs = plt.subplots(ncols=7, nrows=2, figsize=(20,10))\n",
    "index = 0\n",
    "axs = axs.flatten()\n",
    "for k,v in df.items():\n",
    "    sns.boxplot(y=k, data=df, ax=axs[index])\n",
    "    index += 1\n",
    "plt.tight_layout(pad=0.4, w_pad=0.5, h_pad=5.0)"
   ]
  },
  {
   "cell_type": "code",
   "execution_count": null,
   "id": "574e9bd4",
   "metadata": {},
   "outputs": [],
   "source": [
    "# Cleaning up the outlier in the MEDV column\n",
    "IQR=stats.iqr(df.CRIM,interpolation=\"midpoint\")\n",
    "IQR"
   ]
  },
  {
   "cell_type": "code",
   "execution_count": null,
   "id": "b3162776",
   "metadata": {},
   "outputs": [],
   "source": [
    "Q1=df.CRIM.quantile(0.25)\n",
    "Q3=df.CRIM.quantile(0.75)\n",
    "min_limit=Q1-1.5*IQR\n",
    "max_limit=Q3+1.5*IQR\n",
    "min_limit,max_limit"
   ]
  },
  {
   "cell_type": "code",
   "execution_count": null,
   "id": "902a961e",
   "metadata": {},
   "outputs": [],
   "source": [
    "df.loc[df.CRIM>max_limit] "
   ]
  },
  {
   "cell_type": "code",
   "execution_count": null,
   "id": "65146def",
   "metadata": {},
   "outputs": [],
   "source": [
    "df.loc[df.CRIM<min_limit]"
   ]
  },
  {
   "cell_type": "code",
   "execution_count": null,
   "id": "af73078c",
   "metadata": {},
   "outputs": [],
   "source": [
    "df.loc[df['CRIM']>max_limit,'CRIM']=np.median(df.CRIM)"
   ]
  },
  {
   "cell_type": "code",
   "execution_count": null,
   "id": "18afca36",
   "metadata": {},
   "outputs": [],
   "source": [
    "df.loc[df.CRIM>max_limit]"
   ]
  },
  {
   "cell_type": "code",
   "execution_count": null,
   "id": "743621d2",
   "metadata": {},
   "outputs": [],
   "source": [
    "# Cleaning up the outlier in the MEDV column\n",
    "IQR=stats.iqr(df.RM,interpolation=\"midpoint\")\n",
    "IQR"
   ]
  },
  {
   "cell_type": "code",
   "execution_count": null,
   "id": "238b8e87",
   "metadata": {},
   "outputs": [],
   "source": [
    "Q1=df.RM.quantile(0.25)\n",
    "Q3=df.RM.quantile(0.75)\n",
    "min_limit=Q1-1.5*IQR\n",
    "max_limit=Q3+1.5*IQR\n",
    "min_limit,max_limit"
   ]
  },
  {
   "cell_type": "code",
   "execution_count": null,
   "id": "25e2f007",
   "metadata": {},
   "outputs": [],
   "source": [
    "df.loc[df.RM>max_limit] "
   ]
  },
  {
   "cell_type": "code",
   "execution_count": null,
   "id": "5870360c",
   "metadata": {
    "scrolled": true
   },
   "outputs": [],
   "source": [
    "df.loc[df.RM<min_limit]"
   ]
  },
  {
   "cell_type": "code",
   "execution_count": null,
   "id": "8119fb52",
   "metadata": {},
   "outputs": [],
   "source": [
    "df.loc[df['RM']>max_limit,'RM']=np.median(df.RM)"
   ]
  },
  {
   "cell_type": "code",
   "execution_count": null,
   "id": "45296f2a",
   "metadata": {},
   "outputs": [],
   "source": [
    "df.loc[df['RM']<min_limit,'RM']=np.median(df.RM)"
   ]
  },
  {
   "cell_type": "code",
   "execution_count": null,
   "id": "657a2e4e",
   "metadata": {},
   "outputs": [],
   "source": [
    "df.loc[df.RM>max_limit]"
   ]
  },
  {
   "cell_type": "code",
   "execution_count": null,
   "id": "3ec9f8d0",
   "metadata": {},
   "outputs": [],
   "source": [
    "df.loc[df.RM<min_limit]"
   ]
  },
  {
   "cell_type": "code",
   "execution_count": null,
   "id": "8cfe072a",
   "metadata": {},
   "outputs": [],
   "source": [
    "# Cleaning up the outlier in the MEDV column\n",
    "IQR=stats.iqr(df.DIS,interpolation=\"midpoint\")\n",
    "IQR"
   ]
  },
  {
   "cell_type": "code",
   "execution_count": null,
   "id": "be1d2eb1",
   "metadata": {},
   "outputs": [],
   "source": [
    "Q1=df.DIS.quantile(0.25)\n",
    "Q3=df.DIS.quantile(0.75)\n",
    "min_limit=Q1-1.5*IQR\n",
    "max_limit=Q3+1.5*IQR\n",
    "min_limit,max_limit"
   ]
  },
  {
   "cell_type": "code",
   "execution_count": null,
   "id": "ff4e2f58",
   "metadata": {},
   "outputs": [],
   "source": [
    "df.loc[df.DIS>max_limit] "
   ]
  },
  {
   "cell_type": "code",
   "execution_count": null,
   "id": "aa3b5787",
   "metadata": {},
   "outputs": [],
   "source": [
    "df.loc[df.DIS<min_limit]"
   ]
  },
  {
   "cell_type": "code",
   "execution_count": null,
   "id": "a4d0a9a4",
   "metadata": {},
   "outputs": [],
   "source": [
    "df.loc[df['DIS']>max_limit,'DIS']=np.median(df.DIS)"
   ]
  },
  {
   "cell_type": "code",
   "execution_count": null,
   "id": "ec80604d",
   "metadata": {},
   "outputs": [],
   "source": [
    "df.loc[df.DIS>max_limit]"
   ]
  },
  {
   "cell_type": "code",
   "execution_count": null,
   "id": "c74423f4",
   "metadata": {},
   "outputs": [],
   "source": [
    "# Cleaning up the outlier in the MEDV column\n",
    "IQR=stats.iqr(df.PTRATIO,interpolation=\"midpoint\")\n",
    "IQR"
   ]
  },
  {
   "cell_type": "code",
   "execution_count": null,
   "id": "b65f7ea9",
   "metadata": {},
   "outputs": [],
   "source": [
    "Q1=df.PTRATIO.quantile(0.25)\n",
    "Q3=df.PTRATIO.quantile(0.75)\n",
    "min_limit=Q1-1.5*IQR\n",
    "max_limit=Q3+1.5*IQR\n",
    "min_limit,max_limit"
   ]
  },
  {
   "cell_type": "code",
   "execution_count": null,
   "id": "f783016b",
   "metadata": {},
   "outputs": [],
   "source": [
    "df.loc[df.PTRATIO>max_limit] "
   ]
  },
  {
   "cell_type": "code",
   "execution_count": null,
   "id": "890d609f",
   "metadata": {},
   "outputs": [],
   "source": [
    "df.loc[df.PTRATIO<min_limit]"
   ]
  },
  {
   "cell_type": "code",
   "execution_count": null,
   "id": "4c52c862",
   "metadata": {},
   "outputs": [],
   "source": [
    "df.loc[df['PTRATIO']<min_limit,'PTRATIO']=np.median(df.PTRATIO)"
   ]
  },
  {
   "cell_type": "code",
   "execution_count": null,
   "id": "391169ca",
   "metadata": {},
   "outputs": [],
   "source": [
    "df.loc[df.PTRATIO<min_limit]"
   ]
  },
  {
   "cell_type": "code",
   "execution_count": null,
   "id": "0b5d0218",
   "metadata": {},
   "outputs": [],
   "source": [
    "# Cleaning up the outlier in the MEDV column\n",
    "IQR=stats.iqr(df.B,interpolation=\"midpoint\")\n",
    "IQR"
   ]
  },
  {
   "cell_type": "code",
   "execution_count": null,
   "id": "fa542f6f",
   "metadata": {},
   "outputs": [],
   "source": [
    "Q1=df.B.quantile(0.25)\n",
    "Q3=df.B.quantile(0.75)\n",
    "min_limit=Q1-1.5*IQR\n",
    "max_limit=Q3+1.5*IQR\n",
    "min_limit,max_limit"
   ]
  },
  {
   "cell_type": "code",
   "execution_count": null,
   "id": "837c4e9e",
   "metadata": {},
   "outputs": [],
   "source": [
    "df.loc[df.B>max_limit] "
   ]
  },
  {
   "cell_type": "code",
   "execution_count": null,
   "id": "15d2c797",
   "metadata": {},
   "outputs": [],
   "source": [
    "df.loc[df.B<min_limit]"
   ]
  },
  {
   "cell_type": "code",
   "execution_count": null,
   "id": "e01eec75",
   "metadata": {},
   "outputs": [],
   "source": [
    "df.loc[df['B']<min_limit,'B']=np.median(df.B)"
   ]
  },
  {
   "cell_type": "code",
   "execution_count": null,
   "id": "62e03d2b",
   "metadata": {},
   "outputs": [],
   "source": [
    "df.loc[df.B<min_limit]"
   ]
  },
  {
   "cell_type": "code",
   "execution_count": null,
   "id": "e5b85259",
   "metadata": {},
   "outputs": [],
   "source": [
    "# Cleaning up the outlier in the MEDV column\n",
    "IQR=stats.iqr(df.LSTAT,interpolation=\"midpoint\")\n",
    "IQR"
   ]
  },
  {
   "cell_type": "code",
   "execution_count": null,
   "id": "36d2425e",
   "metadata": {},
   "outputs": [],
   "source": [
    "Q1=df.LSTAT.quantile(0.25)\n",
    "Q3=df.LSTAT.quantile(0.75)\n",
    "min_limit=Q1-1.5*IQR\n",
    "max_limit=Q3+1.5*IQR\n",
    "min_limit,max_limit"
   ]
  },
  {
   "cell_type": "code",
   "execution_count": null,
   "id": "9c516796",
   "metadata": {},
   "outputs": [],
   "source": [
    "df.loc[df.LSTAT>max_limit] "
   ]
  },
  {
   "cell_type": "code",
   "execution_count": null,
   "id": "b425b59b",
   "metadata": {},
   "outputs": [],
   "source": [
    "df.loc[df.LSTAT<min_limit]"
   ]
  },
  {
   "cell_type": "code",
   "execution_count": null,
   "id": "3572f933",
   "metadata": {},
   "outputs": [],
   "source": [
    "df.loc[df['LSTAT']>max_limit,'LSTAT']=np.median(df.LSTAT)"
   ]
  },
  {
   "cell_type": "code",
   "execution_count": null,
   "id": "d95266ae",
   "metadata": {},
   "outputs": [],
   "source": [
    "df.loc[df.LSTAT>max_limit]"
   ]
  },
  {
   "cell_type": "code",
   "execution_count": null,
   "id": "35414a62",
   "metadata": {},
   "outputs": [],
   "source": [
    "# Cleaning up the outlier in the MEDV column\n",
    "IQR=stats.iqr(df.MEDV,interpolation=\"midpoint\")\n",
    "IQR"
   ]
  },
  {
   "cell_type": "code",
   "execution_count": null,
   "id": "891aa8cf",
   "metadata": {},
   "outputs": [],
   "source": [
    "Q1=df.MEDV.quantile(0.25)\n",
    "Q3=df.MEDV.quantile(0.75)\n",
    "min_limit=Q1-1.5*IQR\n",
    "max_limit=Q3+1.5*IQR\n",
    "min_limit,max_limit"
   ]
  },
  {
   "cell_type": "code",
   "execution_count": null,
   "id": "8601bbca",
   "metadata": {},
   "outputs": [],
   "source": [
    "df.loc[df.MEDV>max_limit] "
   ]
  },
  {
   "cell_type": "code",
   "execution_count": null,
   "id": "44d05f89",
   "metadata": {},
   "outputs": [],
   "source": [
    "df.loc[df.MEDV<min_limit]"
   ]
  },
  {
   "cell_type": "code",
   "execution_count": null,
   "id": "293009b3",
   "metadata": {},
   "outputs": [],
   "source": [
    "df.loc[df['MEDV']>max_limit,'MEDV']=np.median(df.MEDV)"
   ]
  },
  {
   "cell_type": "code",
   "execution_count": null,
   "id": "4256dab7",
   "metadata": {},
   "outputs": [],
   "source": [
    "df.loc[df['MEDV']<min_limit,'MEDV']=np.median(df.MEDV)"
   ]
  },
  {
   "cell_type": "code",
   "execution_count": null,
   "id": "3d611082",
   "metadata": {},
   "outputs": [],
   "source": [
    "df.loc[df.MEDV>max_limit]"
   ]
  },
  {
   "cell_type": "code",
   "execution_count": null,
   "id": "17f6a1ad",
   "metadata": {},
   "outputs": [],
   "source": [
    "df.loc[df.MEDV<min_limit]"
   ]
  },
  {
   "cell_type": "markdown",
   "id": "b75611f3",
   "metadata": {},
   "source": [
    "Correlation"
   ]
  },
  {
   "cell_type": "code",
   "execution_count": null,
   "id": "e63c5ad4",
   "metadata": {},
   "outputs": [],
   "source": [
    "#Correlation\n",
    "correlation=df.corr()\n",
    "correlation"
   ]
  },
  {
   "cell_type": "code",
   "execution_count": null,
   "id": "618f7b46",
   "metadata": {},
   "outputs": [],
   "source": [
    "# below, we calculate the absolute correlation coefficients between the variable 'MEDV' and all the other variables in the dataset.\n",
    "# then filters the results to keep only the coefficients with an absolute value greater than 0.5 and \n",
    "# stores them in a variable called res.\n",
    "thres=0.5\n",
    "a=abs(correlation['MEDV'])\n",
    "res=a[a>0.5]\n",
    "res"
   ]
  },
  {
   "cell_type": "code",
   "execution_count": null,
   "id": "e521199e",
   "metadata": {},
   "outputs": [],
   "source": [
    "# Checking multicollinearity\n",
    "# defining a function called cal_vif that checks for multicollinearity among the independent variables in a dataset. \n",
    "#It uses the variance_inflation_factor function from the statsmodels.stats.outliers_influence module to calculate the \n",
    "#variance inflation factors (VIFs) for each variable. VIFs measure the degree to which an independent variable \n",
    "#can be predicted from the other independent variables in a regression model.\n",
    "\n",
    "\n",
    "from statsmodels.stats.outliers_influence import variance_inflation_factor\n",
    "def cal_vif(x):\n",
    "    vif=pd.DataFrame()\n",
    "    vif[\"variables\"] = x.columns\n",
    "    vif[\"VIF\"] = [variance_inflation_factor(x.values, i) for i in range(x.shape[1])]\n",
    "    return(vif)"
   ]
  },
  {
   "cell_type": "code",
   "execution_count": null,
   "id": "536a14f3",
   "metadata": {},
   "outputs": [],
   "source": [
    "cal_vif(df[[i for i in df.describe().columns if i not in ['MEDV','CHAS','RAD','NOX','PTRATIO','RM','TAX','B','AGE','LSTAT','DIS']]])"
   ]
  },
  {
   "cell_type": "code",
   "execution_count": null,
   "id": "afd78701",
   "metadata": {},
   "outputs": [],
   "source": [
    "# Let's scale the columns using the MinMax Scaler before plotting them. \n",
    "\n",
    "from sklearn import preprocessing\n",
    "min_max_scaler = preprocessing.MinMaxScaler()\n",
    "column_selected = ['LSTAT', 'INDUS', 'NOX', 'PTRATIO', 'RM', 'TAX', 'DIS', 'AGE']\n",
    "x = df.loc[:,column_selected]\n",
    "y = df['MEDV']\n",
    "x = pd.DataFrame(data=min_max_scaler.fit_transform(x), columns=column_selected)"
   ]
  },
  {
   "cell_type": "code",
   "execution_count": null,
   "id": "3a0c3a08",
   "metadata": {},
   "outputs": [],
   "source": [
    "# Plot the target variable with other mentioned columns\n",
    "\n",
    "fig, axs = plt.subplots(ncols=4, nrows=2, figsize=(20, 10))\n",
    "index = 0\n",
    "axs = axs.flatten()\n",
    "for i, k in enumerate(column_selected):\n",
    "    sns.regplot(y=y, x=x[k], ax=axs[i])\n",
    "plt.tight_layout(pad=0.4, w_pad=0.5, h_pad=5.0)"
   ]
  },
  {
   "cell_type": "markdown",
   "id": "7e9ce9f7",
   "metadata": {},
   "source": [
    "Training and Testing the data"
   ]
  },
  {
   "cell_type": "code",
   "execution_count": null,
   "id": "a5d2b04d",
   "metadata": {},
   "outputs": [],
   "source": [
    "#Splitting the dependent and independent variables\n",
    "X = df[['RM','PTRATIO','LSTAT','CRIM','INDUS','ZN']]\n",
    "y = df.iloc[:,-1]"
   ]
  },
  {
   "cell_type": "code",
   "execution_count": null,
   "id": "a1d5183b",
   "metadata": {},
   "outputs": [],
   "source": [
    "from sklearn.model_selection import train_test_split\n",
    "X_train, X_test, y_train, y_test = train_test_split( X,y , test_size = 0.2, random_state = 0) \n",
    "print(X_train.shape)\n",
    "print(X_test.shape)"
   ]
  },
  {
   "cell_type": "code",
   "execution_count": null,
   "id": "cddbcb95",
   "metadata": {},
   "outputs": [],
   "source": [
    "#Linear Regression\n",
    "from sklearn.linear_model import LinearRegression\n",
    "reg=LinearRegression().fit(X_train,y_train)"
   ]
  },
  {
   "cell_type": "code",
   "execution_count": null,
   "id": "9c4c52f8",
   "metadata": {},
   "outputs": [],
   "source": [
    "reg.score(X_train, y_train)"
   ]
  },
  {
   "cell_type": "code",
   "execution_count": null,
   "id": "35fd9d12",
   "metadata": {},
   "outputs": [],
   "source": [
    "reg.coef_"
   ]
  },
  {
   "cell_type": "code",
   "execution_count": null,
   "id": "01501edc",
   "metadata": {},
   "outputs": [],
   "source": [
    "reg.intercept_"
   ]
  },
  {
   "cell_type": "code",
   "execution_count": null,
   "id": "a8f9d8fe",
   "metadata": {},
   "outputs": [],
   "source": [
    "y_pred = reg.predict(X_test)\n",
    "y_pred"
   ]
  },
  {
   "cell_type": "code",
   "execution_count": null,
   "id": "a94a0ab9",
   "metadata": {},
   "outputs": [],
   "source": [
    "#plotting scatter plot for the predictions\n",
    "plt.scatter(y_test,y_pred)"
   ]
  },
  {
   "cell_type": "code",
   "execution_count": null,
   "id": "1e95039f",
   "metadata": {},
   "outputs": [],
   "source": [
    "#residual calculation\n",
    "residuals=y_test-y_pred\n",
    "residuals"
   ]
  },
  {
   "cell_type": "code",
   "execution_count": null,
   "id": "410f146b",
   "metadata": {},
   "outputs": [],
   "source": [
    "#plotting the residuals\n",
    "sns.displot(residuals,kind='kde')"
   ]
  },
  {
   "cell_type": "code",
   "execution_count": null,
   "id": "a336f830",
   "metadata": {},
   "outputs": [],
   "source": [
    "#plotting sactter plots wrt prediction and residuals\n",
    "plt.scatter(y_pred,residuals)"
   ]
  },
  {
   "cell_type": "code",
   "execution_count": null,
   "id": "34b36714",
   "metadata": {},
   "outputs": [],
   "source": [
    "#calculating evaluation metrics\n",
    "from sklearn.metrics import mean_squared_error\n",
    "from sklearn.metrics import r2_score\n",
    "MSE  = mean_squared_error((y_test),(y_pred))\n",
    "RMSE= np.sqrt(MSE)\n",
    "r2=r2_score((y_test),(y_pred))\n",
    "print(\"MSE:\",MSE)\n",
    "print(\"RMSE:\",RMSE)\n",
    "print('r2 Score:',r2)\n",
    "print('Adjusted r2:',1-(1-r2_score((y_test),(y_pred)))*((X_test.shape[0]-1)/(X_test.shape[0]-X_test.shape[1]-1)))"
   ]
  },
  {
   "cell_type": "code",
   "execution_count": null,
   "id": "3c9300d0",
   "metadata": {},
   "outputs": [],
   "source": [
    "plt.figure(figsize=(10,6))\n",
    "plt.plot(y_pred)\n",
    "plt.plot(np.array(y_test))\n",
    "plt.legend(['Predicted','Actual'])\n",
    "plt.show()"
   ]
  },
  {
   "cell_type": "code",
   "execution_count": null,
   "id": "afddb4a8",
   "metadata": {},
   "outputs": [],
   "source": [
    "min_max_scaler.fit_transform(df)"
   ]
  },
  {
   "cell_type": "code",
   "execution_count": null,
   "id": "be615419",
   "metadata": {},
   "outputs": [],
   "source": [
    "column_selected = ['RM','PTRATIO','LSTAT','CRIM','INDUS','ZN']\n",
    "x = df.loc[:,column_selected]\n",
    "y = df['MEDV']\n",
    "x = pd.DataFrame(data=min_max_scaler.fit_transform(x), columns=column_selected)"
   ]
  },
  {
   "cell_type": "code",
   "execution_count": null,
   "id": "49b01be3",
   "metadata": {},
   "outputs": [],
   "source": [
    "reg.predict(min_max_scaler.transform(x))"
   ]
  },
  {
   "cell_type": "code",
   "execution_count": null,
   "id": "db025635",
   "metadata": {},
   "outputs": [],
   "source": [
    "#pickling\n",
    "import pickle"
   ]
  },
  {
   "cell_type": "code",
   "execution_count": 3,
   "id": "c345eb61",
   "metadata": {},
   "outputs": [
    {
     "ename": "NameError",
     "evalue": "name 'pickle' is not defined",
     "output_type": "error",
     "traceback": [
      "\u001b[1;31m---------------------------------------------------------------------------\u001b[0m",
      "\u001b[1;31mNameError\u001b[0m                                 Traceback (most recent call last)",
      "\u001b[1;32m~\\AppData\\Local\\Temp\\ipykernel_5548\\1017795042.py\u001b[0m in \u001b[0;36m<module>\u001b[1;34m\u001b[0m\n\u001b[1;32m----> 1\u001b[1;33m \u001b[0mpickle\u001b[0m\u001b[1;33m.\u001b[0m\u001b[0mdump\u001b[0m\u001b[1;33m(\u001b[0m\u001b[0mreg\u001b[0m\u001b[1;33m,\u001b[0m\u001b[0mopen\u001b[0m\u001b[1;33m(\u001b[0m\u001b[1;34m'regmodel.pkl'\u001b[0m\u001b[1;33m,\u001b[0m\u001b[1;34m'wb'\u001b[0m\u001b[1;33m)\u001b[0m\u001b[1;33m)\u001b[0m\u001b[1;33m\u001b[0m\u001b[1;33m\u001b[0m\u001b[0m\n\u001b[0m",
      "\u001b[1;31mNameError\u001b[0m: name 'pickle' is not defined"
     ]
    }
   ],
   "source": [
    "pickle.dump(reg,open('regmodel.pkl','wb'))"
   ]
  },
  {
   "cell_type": "code",
   "execution_count": null,
   "id": "7d9845cd",
   "metadata": {},
   "outputs": [],
   "source": [
    "pickled_model=pickle.load(open('regmodel.pkl','rb'))"
   ]
  },
  {
   "cell_type": "code",
   "execution_count": null,
   "id": "9e315e87",
   "metadata": {},
   "outputs": [],
   "source": [
    "pickled_model.predict(min_max_scaler.transform(x))"
   ]
  },
  {
   "cell_type": "code",
   "execution_count": null,
   "id": "e87b3900",
   "metadata": {},
   "outputs": [],
   "source": []
  }
 ],
 "metadata": {
  "kernelspec": {
   "display_name": "Python 3 (ipykernel)",
   "language": "python",
   "name": "python3"
  },
  "language_info": {
   "codemirror_mode": {
    "name": "ipython",
    "version": 3
   },
   "file_extension": ".py",
   "mimetype": "text/x-python",
   "name": "python",
   "nbconvert_exporter": "python",
   "pygments_lexer": "ipython3",
   "version": "3.9.13"
  }
 },
 "nbformat": 4,
 "nbformat_minor": 5
}
